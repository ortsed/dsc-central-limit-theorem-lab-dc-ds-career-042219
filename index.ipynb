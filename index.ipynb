{
 "cells": [
  {
   "cell_type": "markdown",
   "metadata": {},
   "source": [
    "# Central Limit Theorem - Lab\n",
    "\n",
    "## Introduction\n",
    "\n",
    "In this lab, we'll learn how to use the Central Limit Theorem to work with non-normally distributed datasets as if they were normally distributed.  \n",
    "\n",
    "## Objectives\n",
    "You will be able to:\n",
    "* Demonstrate practical understanding of the Central Limit Theorem and how it can be used for parameter estimation"
   ]
  },
  {
   "cell_type": "markdown",
   "metadata": {},
   "source": [
    "## Let's get started!"
   ]
  },
  {
   "cell_type": "code",
   "execution_count": 1,
   "metadata": {},
   "outputs": [],
   "source": [
    "import pandas as pd\n",
    "import numpy as np\n",
    "import matplotlib.pyplot as plt\n",
    "%matplotlib inline\n",
    "import seaborn as sns\n",
    "import scipy.stats as st\n",
    "np.random.seed(0)"
   ]
  },
  {
   "cell_type": "markdown",
   "metadata": {},
   "source": [
    "Next, read in the dataset.  A dataset of 10,000 numbers is stored in `non_normal_dataset.csv`. Use pandas to read the data in to a series.\n",
    "\n",
    "**_Hint:_** Any of the `read_` methods in pandas will store 1-dimensional in a Series instead of a DataFrame if passed in the optimal parameter `squeeze=True`."
   ]
  },
  {
   "cell_type": "code",
   "execution_count": 2,
   "metadata": {},
   "outputs": [],
   "source": [
    "df = pd.read_csv(\"non_normal_dataset.csv\", squeeze=True)"
   ]
  },
  {
   "cell_type": "markdown",
   "metadata": {},
   "source": [
    "## Detecting Non-Normal Datasets\n",
    "\n",
    "Before we can make use of the normal distribution, we need to first confirm that our data is normally distributed.  If it is not, then we'll need to use the Central Limit Theorem to create a sample distribution of sample means that will be normally distributed.  \n",
    "\n",
    "There are two main ways to check if a sample follows the normal distribution or not.  The easiest is to simply plot the data and visually check if the data follows a normal curve or not.  \n",
    "\n",
    "In the cell below, use `seaborn`'s `distplot` method to visualize a histogram of the distribution overlaid with the a probability density curve.  "
   ]
  },
  {
   "cell_type": "code",
   "execution_count": 3,
   "metadata": {},
   "outputs": [
    {
     "name": "stderr",
     "output_type": "stream",
     "text": [
      "/opt/conda/envs/learn-env/lib/python3.6/site-packages/scipy/stats/stats.py:1713: FutureWarning: Using a non-tuple sequence for multidimensional indexing is deprecated; use `arr[tuple(seq)]` instead of `arr[seq]`. In the future this will be interpreted as an array index, `arr[np.array(seq)]`, which will result either in an error or a different result.\n",
      "  return np.add.reduce(sorted[indexer] * weights, axis=axis) / sumval\n"
     ]
    },
    {
     "data": {
      "text/plain": [
       "<matplotlib.axes._subplots.AxesSubplot at 0x7f79810da7b8>"
      ]
     },
     "execution_count": 3,
     "metadata": {},
     "output_type": "execute_result"
    },
    {
     "data": {
      "image/png": "[encoded data removed]",
      "text/plain": [
       "<Figure size 432x288 with 1 Axes>"
      ]
     },
     "metadata": {
      "needs_background": "light"
     },
     "output_type": "display_data"
    }
   ],
   "source": [
    "sns.distplot(df)"
   ]
  },
  {
   "cell_type": "markdown",
   "metadata": {},
   "source": [
    "As expected, this dataset is not normally distributed.  \n",
    "\n",
    "For a more formal way to check if a dataset is normally distributed or not, we can make use of a statistical test.  There are many different statistical tests that can be used to check for normality, but we'll keep it simple and just make use the `normaltest` function from scipy--see the documentation if you have questions about how to use this method. \n",
    "\n",
    "In the cell below, use `normaltest()` to check if the dataset is normally distributed.  "
   ]
  },
  {
   "cell_type": "code",
   "execution_count": 5,
   "metadata": {},
   "outputs": [],
   "source": [
    "k2, p = st.normaltest(df)"
   ]
  },
  {
   "cell_type": "code",
   "execution_count": 7,
   "metadata": {},
   "outputs": [
    {
     "data": {
      "text/plain": [
       "43432.811126532004"
      ]
     },
     "execution_count": 7,
     "metadata": {},
     "output_type": "execute_result"
    }
   ],
   "source": [
    "k2"
   ]
  },
  {
   "cell_type": "markdown",
   "metadata": {},
   "source": [
    "The output may seem a bit hard to interpret since we haven't covered hypothesis testing and p-values yet.  However, the function tests the hypothesis that the distribution passed into the function differs from the normal distribution.  The null hypothesis would then be that the data is normally distributed.  For now, that's all you need to remember--this will make more sense once you understand p-values.  \n",
    "\n",
    "Since our dataset is non-normal, that means we'll need to use the **_Central Limit Theorem._**"
   ]
  },
  {
   "cell_type": "markdown",
   "metadata": {},
   "source": [
    "## Sampling With Replacement\n",
    "\n",
    "In order to create a Sample Distribution of Sample Means, we need to first write a function that can sample with replacement.  \n",
    "\n",
    "In the cell below, write a function that takes in an array of numbers `data` and a sample size `n` and returns an array that is a random sample of `data`, of size `n`."
   ]
  },
  {
   "cell_type": "code",
   "execution_count": 9,
   "metadata": {},
   "outputs": [],
   "source": [
    "data = df"
   ]
  },
  {
   "cell_type": "code",
   "execution_count": 11,
   "metadata": {},
   "outputs": [
    {
     "name": "stdout",
     "output_type": "stream",
     "text": [
      "[33 10 22 35 16]\n"
     ]
    }
   ],
   "source": [
    "def get_sample(data, n):\n",
    "    return np.random.choice(data,n)\n",
    "\n",
    "test_sample = get_sample(data, 30)\n",
    "print(test_sample[:5]) # [56, 12, 73, 24, 8] (This will change if you run it mutliple times)"
   ]
  },
  {
   "cell_type": "markdown",
   "metadata": {},
   "source": [
    "## Generating a Sample Mean\n",
    "\n",
    "Next, we'll write another helper function that takes in a sample and returns the mean of that sample.  "
   ]
  },
  {
   "cell_type": "code",
   "execution_count": 12,
   "metadata": {},
   "outputs": [
    {
     "name": "stdout",
     "output_type": "stream",
     "text": [
      "48\n"
     ]
    }
   ],
   "source": [
    "from statistics import mean\n",
    "def get_sample_mean(sample):\n",
    "    return mean(sample)\n",
    "\n",
    "test_sample2 = get_sample(data, 30)\n",
    "test_sample2_mean = get_sample_mean(test_sample2)\n",
    "print(test_sample2_mean) # 45.3 (This will also change if you run it multiple times)"
   ]
  },
  {
   "cell_type": "markdown",
   "metadata": {},
   "source": [
    "### Creating a Sample Distribution of Sample Means\n",
    "\n",
    "Now that we have helper functions to help us sample with replacement and calculate sample means, we just need bring it all together and write a function that creates a sample distribution of sample means!\n",
    "\n",
    "In the cell below, write a function that takes in 3 arguments: the dataset, the size of the distribution to create, and the size of each individual sample.  The function should return a sample distribution of sample means of the given size.  "
   ]
  },
  {
   "cell_type": "code",
   "execution_count": 23,
   "metadata": {},
   "outputs": [
    {
     "name": "stdout",
     "output_type": "stream",
     "text": [
      "[47 76 43 47 83 10  7 58 95 79 46 60 43 21  3  9  4 47 92 43 72 40 98 66\n",
      " 69 33 93 48 46 17]\n",
      "[ 56  63  24  44  24   3  97  33  28 100  37  91  91   9  82   7  35  78\n",
      "   8  77  14  89 100 100   9  39  64  39   7  97]\n",
      "[90  5 26 75 32 76  4 54 18 46  4 14  3 93 11 38 70 35 44 95 68 18 61 23\n",
      "  2 77  9 98 69 72]\n",
      "[ 51  65  97  26  10  92  91  92  29  81  59  29   2  10  91  18  11  15\n",
      "  77   9  72 100  96  37  81  79  11   3   4  12]\n",
      "[ 56   6  55  28  99  21  91  45  13  13  65  60  81  32  20  88  47  13\n",
      " 100  95  47  98  91   6   1  99  33  10  88  86]\n",
      "[ 99  47  62  30  45  22  93  58   1  17   3  36  95   4  92 100  16  22\n",
      "  94 100  72   2   1  31  56  43  35  40  57   7]\n",
      "[ 49   7  12  26  96  72  42 100  70   6  34  72  59  96  29  16  28  93\n",
      "   3  26   6  98  45  45  36  61  98  55  61  55]\n",
      "[  8  63   8  95   9  99  92   9  85  50  36  68  19  92  16  12  13  31\n",
      "   8  14  37  13 100  85  58  92  92  32  20   2]\n",
      "[32 31 92 37 38 69 99 10 23 88 24 77 11 11 44 92  4 12 11 93 92 72  1 33\n",
      " 94 11 71 47 99  9]\n",
      "[ 7 10 19 27 93 29 51  1 53 28  5 80 18 48 22 25 10 21 31 44 52 16 96 13\n",
      " 11 98 77 97 37 90]\n",
      "[27 20 36 22 71 50 23 70 20  8 92 46 37 79 93 46  4 98 97 29 22 90 17 37\n",
      " 40  6 93 47 37 93]\n",
      "[ 98  99  92  31  43   9   9  80   9   9  18  20  42  98  13   1  46  71\n",
      "  45   4  57   3  75  21  97  11   9  12 100  80]\n",
      "[ 97  35  55  94   8  94  95  82  40  41  89  25  44  34  24  15  95  66\n",
      "   4  25  93 100   4   9  10  18  46  17  13   7]\n",
      "[ 2 40 19 25 21 46 85 98 10 92 15 33 63 54 91 77 60 27 24 11  3 48 92 80\n",
      " 55  7 96 21 87 31]\n",
      "[33 51  1  8 59 96 97 18 99 42  1 78  7 96 44 14  9 90 73 29 34 48  7 21\n",
      " 37  8 46 96 98 95]\n",
      "[ 68  85  89 100  29  31  20   6  98  34  48   8  14  17  70  40  38  37\n",
      "  54  14  21  34  49  12  93  94  11   4  72  31]\n",
      "[13 33 54 41 11 22 42 44 77  9 32 19 96 20 69 38 23 92 98 67  7 46  2 10\n",
      "  2 91  6 52 20  9]\n",
      "[37 60 97 81 19 91 12 74 31 25 43 83 13 57 47 34  7 97 98 97 46 67 90 85\n",
      " 10 80 95 10 24 94]\n",
      "[92 74 48 83 62  4 47  8 92 55 93 44 90 11  3  9  2 92 53 89  5  7 40 33\n",
      " 96  6 16  7 43 43]\n",
      "[33 94 45  2 97 92 34  9 13  8 20 94 85 67 88 93  2  3 32 35 15 21 99 59\n",
      " 92 86  6 13 95 35]\n",
      "[ 31  98  93  60   2  64  21   9  26  97  34 100  65 100  36  77   1 100\n",
      "   5   1  73  86  97  99  92  75  87  29   5  30]\n",
      "[ 35  39  18  22  91   1  61  74  46  85   9 100  34  48   9   6  60   3\n",
      "  48   4  38  24  33  59  76  92  55  94  63  38]\n",
      "[44 93 37 16 68 99  4 38 26  5 49 44  6 95 21 71 95 96 91 38 97 11 94 40\n",
      " 17 50 18 73 54 95]\n",
      "[ 88  22  77  93   7  24   5 100   5  69  31  33  39  31   7  99   8  83\n",
      "  71  38  46  12  13  49   3  32   1  49   4  51]\n",
      "[85 99  7 18 26 20 95  9 94 74 51 17 46 23 13 50  2 22 31 97 60 41 69 94\n",
      " 10 31 99  3 31  7]\n",
      "[ 96  15  89   9  95  13  32  16  48  37  58  92  40  14  55   7  21   8\n",
      "  46  21  37 100 100  61  91  75   8  47   8  92]\n",
      "[93 25 84 69 66 16  6 46  6 19  7 99 99 56 17 70 34 18 93  6 57 21 54 76\n",
      " 76 27 55 98 14 47]\n",
      "[100  33   8  39  11  37  15  69  22   1  99  33  43   7  22   1   8  49\n",
      "  56  52  19   4  33  26  31 100  14  12  37  67]\n",
      "[99 16 22 10  9 38 86 91 39 45 96 67 44 46 67  2 19 16 33 39 57 85 21 14\n",
      " 38 98 97 44 34 33]\n",
      "[ 49  12  52  16  43  10   8  45  11  92  53  25  20   4   5  52  76  10\n",
      "  77  32 100  11  44  67  60  53  13  84  48  79]\n",
      "[12 43 83 95 96 58 38 89 66 97 24 50 98  1 12 12  4 29 65  4 71 37 91 38\n",
      " 43 69  5 93 15 96]\n",
      "[45 49 57 91 56  3 32  8 97 88 19 37 54  9 50 47 18 14 47  8 94 20 90 91\n",
      " 23 13 46 15 48 71]\n",
      "[94 19 33  1 15 29 30 21 22 46 49 51  9 93 59  2 46 21 10 97 21  4 77 24\n",
      " 41 64 21 26  8 17]\n",
      "[ 40  60  78  41  29  16  47  33  44  26  18  96  44  35  28  89  81  30\n",
      "   4  91  95  58  58  77  89  39  96  98   2 100]\n",
      "[ 33  14  57  97  66  50  41  13  30  44   6  60  41   6  22  58  55  39\n",
      "  20  84 100  90  95   7  12  28  71   8  72  72]\n",
      "[ 95  92   9  99  19  98  42   9   4  38 100  62  29  15   4  92   2  32\n",
      "  45  42  96  45  31  96  46   4 100  60  65  38]\n",
      "[28 78  1 66 21 63 20 91  7 13 19 92 95  1 30 29  1 42 49 81 19  7 18  5\n",
      " 34  3 33 88  3 93]\n",
      "[  7  47  33  99  78   7  25  14  77  47  34  46   5  39 100  94  24  35\n",
      "  32  24  97  71  23  12  34  49  18  33  49  69]\n",
      "[24 37 82 25 38 24 22 99 99 81 40 18 72 13 20 93 51 10 32 11 11 89 39  9\n",
      " 15 10 93 18 18  2]\n",
      "[ 86  27  16  72  51  26  83  78  77  80  98  21  50  92  45  96  93  16\n",
      "  51  19  10  40  19  28  26   9 100  96  84  92]\n",
      "[50 10 33 24 23  8 16 56  4 52 45 98 82 39 31 96 35 13 41 36 96 36 31 97\n",
      " 49 25 44 10 33 85]\n",
      "[ 26   9  83  47  40  95  11  24  21  77   8  31  99  83  59 100  30  80\n",
      "  13  62  56  64   4  36  94   5  47  46   4  40]\n",
      "[84 97 99 38 77  8 98 83  3 10 65 41 47 34 28 69 25 12 95 81 92 21 18 64\n",
      " 27 63 46 61 96 28]\n",
      "[43 32 51 95  6 26 49  7 28 97 23  6 23 59 15 18  6 33 25 92 93 99 10 77\n",
      " 66 45 21  8 89  8]\n",
      "[ 95  99  96  47  65  75   3   4  91   6 100   6  18   2   9  97  31  38\n",
      "  11  19   5  39  82  96  17  65  10  49   9 100]\n",
      "[ 98  88  92  20  48  92  41   1  58  48  42  33  97  92  11  44  79   7\n",
      "  91  92  96 100  42  94  48  30  31   1  41  85]\n",
      "[ 74  59  54   7  12  51  63   4   9  93  74  86  43  47  10  61  35  13\n",
      "  92 100  95  88  22  44  26  31  58   7  31   3]\n",
      "[ 24  12  44  18  40  42  44  31  16   3  19  95   1 100  99  78   3  16\n",
      "  52  10  26   1  59  10  49  69  20   7  34  72]\n",
      "[92 21 97 37 65  2 99 70 58 79 20 32 98 84 98 42 53  5 17 71  9 90  2 98\n",
      " 45  5 98 50 93 18]\n",
      "[  8  81   4  21  21  94   3  15  26  55  98  92 100  99 100  98  31  14\n",
      "  93  85  55  98  93  24  45   1  32  45  88  55]\n",
      "[ 46  89  98  76  23  88  78 100  14  18  44  45  22  97  91  45  16  27\n",
      "  72  51  23  16  18  30  67  21  56 100  76  91]\n",
      "[ 8 46 24 94 47 97 17 59  9  9 66  9 60 17 47 95 92 37 31 88 45  6 28 14\n",
      "  8 26 56 21 22 10]\n",
      "[64 84 97 44 38 10  3 93 72 91 28  4 61 43 15 32  7 93 17 10  2 76 33 21\n",
      " 39 99 18 43 53 73]\n",
      "[ 23  31  29  88  66  52  19 100   3  37  81  23  29  21  96  88  78  31\n",
      "  30  47  17   4  27  38  36  98  72  59  43  11]\n",
      "[69 30 39 59 41 60 93 22 51 36 66 81  1  7 49 42 81 95 99 21 97 95 99 12\n",
      " 47 40 14 25 78 23]\n",
      "[ 26  11  95   5  48  25  50  23  58  60  19  90  93  16  59  88  11   8\n",
      "  36   8  93  91  40  29  30 100  72   3  35  12]\n",
      "[ 21  88  35   2  99  26  38 100 100  14  94  44  98   7  49  47  27  93\n",
      "  91  27  38  42  24  31   5   2  26  55  53  19]\n",
      "[ 8  3 19 28 91 14 93 88 32 74 53  4 36 95  8 91 78 22 22 50 23 42 74 16\n",
      "  6 41 38 22 31 99]\n",
      "[ 16  91   7  35  86  88  89  27  86  59  35  26   6   4  52  99  94  32\n",
      "  93  16  43  10  33  22  28 100  73  36  13  36]\n",
      "[ 76  30  50 100  46  64  72  63  79   5  32  99   1  46  50  97  83  77\n",
      "  86  97  33  53  83  78  42  33   8  33   9  44]\n",
      "[31 62 99 59 46 99  8  8 49 11 79 30 12 55 35 28  4 49 34 99 70 92 26 27\n",
      " 54 98 24 42 23 16]\n",
      "[37 11  4 23 84 97 24 25 52 98 92 57 31 85 38 95 19 20 23 98  7 97 70 44\n",
      " 50 94 95  4 26 44]\n",
      "[18 94 30 99 32 92 44 11  4 97 20 94 63 20 41  3 70 96 40  9 26 38 69 58\n",
      " 19 95 95 47 95 78]\n",
      "[ 42  97   8  91  83 100  37   1  48  64  19  24  69  49  15  83  92  98\n",
      "  34   2  95  26  28  30  34  76  97  93  40  94]\n",
      "[ 35  97  19  22  96  86  96  49  25  53  97  23  92  51  64  68  16 100\n",
      "  40  96  21  99  60  91   7   2   6  20  49  24]\n",
      "[98  7 41 44 34 97 37 73 99 53  7 77 92 22 10 44 75  6 31 81 15  4 40 56\n",
      " 86 17 42 28 48 47]\n",
      "[ 4 29  6 15  3 81 39 57  3 98 25  7  6 95  6 12 12 94  6  9  6 15 42 10\n",
      " 24 88 21 92 41 83]\n",
      "[ 35  94  52  45  65  77  46  15   6  95  44  49  94  79  37 100  77   2\n",
      "   4  40  44  75  14  43  59  95  66  25   8   7]\n",
      "[35 32 92 72 76 45 57 82 99 23 42 18 34 54 55  1 19 34 99 98  6 28 24 26\n",
      "  7 60 27 18 39 21]\n",
      "[10  2 44 72 21 69 62  4 98 37 22 81 79 96 62 11 38 88 18 96 19 80 41  1\n",
      " 22 98 49  4 35 58]\n",
      "[ 13  77  36  72  26  70  16   7  39  21  94  49 100  21   9  91  42  11\n",
      "  97  98 100   3   3  94  95   2  47   8  25  82]\n",
      "[22 26 46 41 92 80 94 22 97 36 24 58  3 49 92 33 96 92 91 37  7 41 77  7\n",
      " 70 64 20 91 95 99]\n",
      "[40 11 92 41  4 30 13 99 75 92 95 93 66 29 25 31 12 33 97 96 92 48 28 92\n",
      "  1 46 11 38 97 26]\n",
      "[86  4 50 77 10 12 24 76  3 13 49 94 35 21 77 12 35  6 96 23 64 99 13 34\n",
      " 74 35 81  4  7 17]\n",
      "[36 74 74  1 35 16 97 61 72 97  3 49 44 11 44 17 96 12 37 32 11  6 78 37\n",
      "  5 89 73 12 43 46]\n",
      "[83 22 51 53 72 46 25 97 91 57  7 84 24 95 57 95  6 92 91  2 27  3 96 83\n",
      " 92 36 17 96  6 92]\n",
      "[60  9 32 65  7 10 21  7 30 21 34  9 75 95 45  4 60 64 41 31 94 25  3  6\n",
      " 44 18 90 95 60 93]\n",
      "[  7  40  93  49  38  16  93  43  13  47  69  24 100  61  94  16  99   4\n",
      "   9   5  55  41  34  39  36  82  50  98  60  52]\n",
      "[12 48 10 33 24  6 99 10 12 51 42  7  1  2 10 34 47 14 85 29 96 11 27  4\n",
      " 57 24 76 39 45 10]\n",
      "[27 11 95 45 71  4 39 93 97 95 98 77 10 25 29 26 32  9 85  6  3 33 92 66\n",
      " 43 42  5 94 32 42]\n",
      "[79 18  3 92 14 89 31 73 34 99  4 50 39 42  4 89  3 78 96  2 30 39 49 98\n",
      "  3 33 41  3 98 18]\n",
      "[32 97 19  8 99 11  4 98 98 11 16 64  2 97  8 44 49 50 96 71 94 93  5 95\n",
      " 13 87 22 68 18 25]\n",
      "[ 20  49  58  48  38  39  60  99  11  95   5  83  27  64  44  92  18  62\n",
      "  97  17  18 100   4  66  42   7  94  11  87  44]\n",
      "[ 80  13  93  11  77  16   9  11  21   9   2  17  91  37  73  73  93  94\n",
      " 100  86   5  91   5  75  51  31  37  64  99  81]\n",
      "[34 45 92  2 46 35 26 95 32 65 92  3 30 25 14 28 11  1  6 23 21 60 97  7\n",
      "  1 52  5  2  7 41]\n",
      "[ 4  1  7 16  4 99 58 95 84  4 32  4 21 84 60 35  3  6  9 77 32 11 59 15\n",
      " 90 91 42 78 19 94]\n",
      "[18 84 14 61 75 17 60 92  5 22 97 38 39  8  2 65 11 14 23 43 39 83  2 99\n",
      " 83 93 21  8 94 25]\n",
      "[ 36  54  95  29  91  37  83   7  63  64  20  99  90  14  94  98  98  73\n",
      "  10  82  14  77 100   4  57  36  99  39  55   9]\n",
      "[47 35 49 10 73 40 10 43  1 90 96 26 93 11 26  8 91 69 33 30 63 97 81 43\n",
      " 42  3 94 63 58 11]\n",
      "[ 3 45 98 68 45 24 49 42  1 42 82 31 50 94 80 25 77 43 33 10 84  6 46 48\n",
      " 21 88 89 15 48 39]\n",
      "[ 96  62  74  35  94  98  62  85  74  41 100  40  15  71  98  92  91  17\n",
      "  40  37  10   7  76  85  23  26  91  63  68   5]\n",
      "[ 30  23 100  62  79   2   9  47   3  23   3  94  48   4  72  14  16   2\n",
      "  46   4  54  21  93  92  13  36  98  27  20  53]\n",
      "[ 90  51  29  63  27  41  42   2  97  16  11  32  89   6  52  43  68  47\n",
      "  49  43  91  13  13   6  98 100  20   9  45  10]\n",
      "[35 14 28 97  8 66  5 98  9 83 94 95 42 43 31 56 92 95 98 17 22 54  7 30\n",
      " 13 97 78 95 82 61]\n",
      "[ 3 83  1 98 55 24 96 35 28 84 71 94 49 83 92 29  4 53  7 94 98 18 66 98\n",
      " 55 50  2 77 91 48]\n",
      "[98 52 79 40 46  8 79 67 17 44 26 18 50 99 94 85 42 74 32  1 28  8 42 75\n",
      "  2 25  3  7 51 29]\n",
      "[92 20 96 19 40 86 65  4 91 76 71 94  8 21 12 21 33 56 72  4 36 47 23 15\n",
      " 93 81 10 31 44 78]\n",
      "[17 82 45 62 99 47 93 55  7 29 98 69 40 10 97 12 51 97  4 63 10 48 19 62\n",
      " 34 36 92 28 12 98]\n",
      "[ 3 95 93 35  4  8 26 43 40 98 96 94 46 88 29  2 46  8 15 58 79 13  1 27\n",
      " 92 75 25 56 42 50]\n",
      "[  6  96  96   1   8  34   5  98  66   9  42  32 100  31  53  92   4  69\n",
      "  86   4  23  13  30   9  72  92  70  36  92  76]\n",
      "[49, 51, 44, 48, 52]\n"
     ]
    }
   ],
   "source": [
    "from statistics import mean\n",
    "def create_sample_distribution(data, dist_size=100, n=30):\n",
    "    samples = []\n",
    "    means = []\n",
    "    for i in range(1, dist_size + 1):\n",
    "        sample = get_sample(data, n)\n",
    "        mn = mean(sample)\n",
    "        means.append(mn)\n",
    "        samples.append(sample)\n",
    "    return samples, means\n",
    "\n",
    "test_sample, test_sample_dist = create_sample_distribution(data)\n",
    "print(test_sample_dist[:5]) # [54.53333333333333, 60.666666666666664, 37.3, 39.266666666666666, 35.9]"
   ]
  },
  {
   "cell_type": "markdown",
   "metadata": {},
   "source": [
    "## Visualizing the Sample Distribution as it Becomes Normal\n",
    "\n",
    "The sample distribution of sample means isn't guaranteed to be normal after it hits a magic size.  Instead, the distribution begins to approximate a normal distribution as it gets larger and larger.  Generally, 30 is accepted as the number for sample size where the Central Limit Theorem begins to kick in--however, there are no magic numbers when it comes to probability. On average, and only on average, a sample distribution of sample means where the individual sample sizes were 29 would only be slightly less normal, while one with sample sizes of 31 would likely only be slightly more normal.  \n",
    "\n",
    "Let's create some sample distributions of different sizes and watch the Central Limit Theorem kick in as it begins to approximate a normal distribution as it grows in size.  \n",
    "\n",
    "In the cell below, create a sample distribution from `data` of `dist_size` 10, with a sample size `n` of 3. Then, visualize this sample distribution with `distplot`."
   ]
  },
  {
   "cell_type": "code",
   "execution_count": null,
   "metadata": {},
   "outputs": [],
   "source": []
  },
  {
   "cell_type": "markdown",
   "metadata": {},
   "source": [
    "Now, let's increase the `dist_size` to 30, and `n` to 10.  Create another visualization to compare how it changes as size increases.  "
   ]
  },
  {
   "cell_type": "code",
   "execution_count": null,
   "metadata": {},
   "outputs": [],
   "source": []
  },
  {
   "cell_type": "markdown",
   "metadata": {},
   "source": [
    "The data is already looking much more 'normal' than the first sample distribution, and much more 'normal' that the raw non-normal distribution we're sampling from. \n",
    "\n",
    "In the cell below, create another sample distribution of `data` with `dist_size` 1000 and `n` of 30.  Visualize it to confirm the normality of this new distribution. "
   ]
  },
  {
   "cell_type": "code",
   "execution_count": null,
   "metadata": {},
   "outputs": [],
   "source": []
  },
  {
   "cell_type": "markdown",
   "metadata": {},
   "source": [
    "Great! As we can see, the dataset _approximates_ a normal distribution. It isn't pretty, but it's generally normal enough that we can use it to answer questions using z-scores and p-values.  \n",
    "\n",
    "Another handy feature of the Central Limit Theorem is that the mean and standard deviation of the sample distribution should also approximate the population mean and standard deviation from the original non-normal dataset!  Although it's outside the scope of this lab, we could also use the same sampling methods seen here to approximate other parameters from any non-normal distribution, such as the median or mode!\n"
   ]
  },
  {
   "cell_type": "markdown",
   "metadata": {},
   "source": [
    "## Summary\n",
    "\n",
    "In this lab, we learned to apply the central limit theorem in praxtice. We learned how to determine if a dataset was normal or not. From there, we used a function to sample with replacement and generate sample means. Afterwards, we created a sample distribution of sample means in order to answer questions about non-normally distributed datasets by working with the normally distributed sample distribution of sample means.  "
   ]
  },
  {
   "cell_type": "code",
   "execution_count": null,
   "metadata": {},
   "outputs": [],
   "source": []
  }
 ],
 "metadata": {
  "kernelspec": {
   "display_name": "Python 3",
   "language": "python",
   "name": "python3"
  },
  "language_info": {
   "codemirror_mode": {
    "name": "ipython",
    "version": 3
   },
   "file_extension": ".py",
   "mimetype": "text/x-python",
   "name": "python",
   "nbconvert_exporter": "python",
   "pygments_lexer": "ipython3",
   "version": "3.6.6"
  }
 },
 "nbformat": 4,
 "nbformat_minor": 2
}
